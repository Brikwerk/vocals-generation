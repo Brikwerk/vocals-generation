{
 "cells": [
  {
   "cell_type": "markdown",
   "metadata": {},
   "source": [
    "## In Theory\n",
    "\n",
    "The combined model is trained with the triple criterion:\n",
    "\n",
    "$\\mathcal{L} = \\mathcal{L}_{prior} + \\mathcal{L}_{llike}^{Dis_l} + \\mathcal{L}_{GAN}$\n",
    "\n",
    "where\n",
    "\n",
    "$\\mathcal{L}_{prior} = D_{KL}(q(z|x) \\Vert p(z))$\n",
    "\n",
    "$\\mathcal{L}_{GAN} = \\log(Dis(x)) + \\log(1-Dis(Gen(z)))$            \n",
    "\n",
    "$\\mathcal{L}_{llike}^{Dis_l} = -\\mathbb{E}_{q(z|x)}[\\log p(Dis_l (x)|z)]$\n",
    "\n",
    "\n",
    "---\n",
    "\n",
    "$x$ is a training sample and $z \\sim p(z)$\n",
    "(Dis = discriminator; Gen = Generator)\n",
    "\n",
    "In addition, for $\\mathcal{L}_{GAN}$, $x = Gen(z)$ with $z \\sim p(z)$\n",
    "\n",
    "$\\mathcal{L}_{GAN}$ is the style error\n",
    "Reconstruction error is the content error"
   ]
  },
  {
   "cell_type": "markdown",
   "metadata": {},
   "source": [
    "### $\\mathcal{L}_{llike}^{Dis_l}$\n",
    "\n",
    "$Dis_l(x)$ is the hidden representation of the $l$ th layer of the discriminator\n",
    "\n",
    "Uses a Gaussian observation model for $Dis_l(x)$\n",
    "- Mean: $Dis_l(\\tilde x)$ where $\\tilde x \\sim Dec(z)$ is the sample from the decoder of $x$.\n",
    "- Identity covariance\n",
    "\n"
   ]
  },
  {
   "cell_type": "markdown",
   "metadata": {},
   "source": [
    "## In Practice\n",
    "\n",
    "- Do not update all network parameters wrt. the combined loss\n",
    "    * The Discriminator should not minimise $\\mathcal{L}_{llike}^{Dis_l}$ (collapses discriminator to 0)\n",
    "    * Do not backpropagate the error signal from $\\mathcal{L}_{GAN}$ to the Encoder\n",
    "\n",
    "- Use a parameter $\\gamma$ to weight the ability to reconstruct vs. fooling the discriminator\n",
    "    * not applied to the entire model\n",
    "    * weighting only applied when updating the parameters of the decoder.\n",
    "    * $\\theta_{Dec} \\stackrel{+}\\leftarrow - \\nabla_{\\theta_{Dec}} (\\gamma \\mathcal{L}_{llike}^{Dis_l} - \\mathcal{L}_{GAN})$\n",
    "\n"
   ]
  },
  {
   "cell_type": "markdown",
   "metadata": {},
   "source": []
  }
 ],
 "metadata": {
  "language_info": {
   "name": "python"
  },
  "orig_nbformat": 4
 },
 "nbformat": 4,
 "nbformat_minor": 2
}
